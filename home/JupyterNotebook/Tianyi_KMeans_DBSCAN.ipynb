{
 "cells": [
  {
   "cell_type": "markdown",
   "id": "fbfdc2a4-81a3-448f-bdfc-edb3c96861e0",
   "metadata": {},
   "source": [
    "# Preprocessing"
   ]
  },
  {
   "cell_type": "code",
   "execution_count": 1,
   "id": "40dcbec8-b2e7-4e4f-80a3-4bf43e466eef",
   "metadata": {},
   "outputs": [],
   "source": [
    "from sklearn.cluster import KMeans\n",
    "from sklearn.cluster import DBSCAN\n",
    "from sklearn.preprocessing import OneHotEncoder\n",
    "from sklearn.preprocessing import MinMaxScaler\n",
    "import matplotlib.pyplot as plt\n",
    "import pandas as pd\n",
    "import numpy as np\n",
    "from scipy.stats import ttest_rel"
   ]
  },
  {
   "cell_type": "code",
   "execution_count": 4,
   "id": "973a3f1d-c700-4021-9566-50e2a280e32a",
   "metadata": {},
   "outputs": [],
   "source": [
    "df_final = pd.read_csv('dataset/preprocessed_dataset.csv')\n",
    "metadata = pd.read_csv('dataset/movie_metadata.csv')\n",
    "metadata['movie_title'] = metadata.movie_title.str.lower().str.strip()\n",
    "data = pd.merge(metadata,df_final,on = ['movie_title'],suffixes=['_x',''])\n",
    "# Drop duplicate & unnecessary\n",
    "data.drop(columns = ['genres_x','director_name_x','actor_1_name_x','actor_2_name_x','actor_3_name_x','plot_keywords','movie_imdb_link','country'],inplace = True)"
   ]
  },
  {
   "cell_type": "code",
   "execution_count": 8,
   "id": "c7e35b63-fb7c-411a-9d83-74e41faf14d2",
   "metadata": {},
   "outputs": [
    {
     "name": "stdout",
     "output_type": "stream",
     "text": [
      "(4961, 26)\n"
     ]
    },
    {
     "data": {
      "text/plain": [
       "color                                                                    Color\n",
       "num_critic_for_reviews                                                   723.0\n",
       "duration                                                                 178.0\n",
       "director_facebook_likes                                                    0.0\n",
       "actor_3_facebook_likes                                                   855.0\n",
       "actor_1_facebook_likes                                                  1000.0\n",
       "gross                                                              760505847.0\n",
       "movie_title                                                             avatar\n",
       "num_voted_users                                                         886204\n",
       "cast_total_facebook_likes                                                 4834\n",
       "facenumber_in_poster                                                       0.0\n",
       "num_user_for_reviews                                                    3054.0\n",
       "language                                                               English\n",
       "content_rating                                                           PG-13\n",
       "budget                                                             237000000.0\n",
       "title_year                                                              2009.0\n",
       "actor_2_facebook_likes                                                   936.0\n",
       "imdb_score                                                                 7.9\n",
       "aspect_ratio                                                              1.78\n",
       "movie_facebook_likes                                                     33000\n",
       "director_name                                                    James Cameron\n",
       "actor_1_name                                                       CCH Pounder\n",
       "actor_2_name                                                  Joel David Moore\n",
       "actor_3_name                                                         Wes Studi\n",
       "genres                                         Action Adventure Fantasy Sci-Fi\n",
       "comb                         CCH Pounder Joel David Moore Wes Studi James C...\n",
       "Name: 0, dtype: object"
      ]
     },
     "execution_count": 8,
     "metadata": {},
     "output_type": "execute_result"
    }
   ],
   "source": [
    "# One hot encode categorical vars, Multi ho encode genre, Min-max to 0-1 numerical\n",
    "scaler = MinMaxScaler()\n",
    "cate = ['color','language','content_rating','director_name','actor_1_name','actor_2_name','actor_3_name']\n",
    "drop = ['movie_title','genres','comb']\n",
    "# Drop movie with na in categorical vars\n",
    "data.dropna(subset=cate,inplace = True)\n",
    "data.reset_index(drop = True,inplace = True)\n",
    "# Basic info\n",
    "print(data.shape)\n",
    "# Schema\n",
    "data.iloc[0,:]"
   ]
  },
  {
   "cell_type": "code",
   "execution_count": 9,
   "id": "dddfb711-e9d9-4418-bfc2-9470850d61d8",
   "metadata": {},
   "outputs": [
    {
     "name": "stdout",
     "output_type": "stream",
     "text": [
      "(4961, 10235)\n"
     ]
    },
    {
     "data": {
      "text/html": [
       "<div>\n",
       "<style scoped>\n",
       "    .dataframe tbody tr th:only-of-type {\n",
       "        vertical-align: middle;\n",
       "    }\n",
       "\n",
       "    .dataframe tbody tr th {\n",
       "        vertical-align: top;\n",
       "    }\n",
       "\n",
       "    .dataframe thead th {\n",
       "        text-align: right;\n",
       "    }\n",
       "</style>\n",
       "<table border=\"1\" class=\"dataframe\">\n",
       "  <thead>\n",
       "    <tr style=\"text-align: right;\">\n",
       "      <th></th>\n",
       "      <th>num_critic_for_reviews</th>\n",
       "      <th>duration</th>\n",
       "      <th>director_facebook_likes</th>\n",
       "      <th>actor_3_facebook_likes</th>\n",
       "      <th>actor_1_facebook_likes</th>\n",
       "      <th>gross</th>\n",
       "      <th>num_voted_users</th>\n",
       "      <th>cast_total_facebook_likes</th>\n",
       "      <th>facenumber_in_poster</th>\n",
       "      <th>num_user_for_reviews</th>\n",
       "      <th>...</th>\n",
       "      <th>Drama</th>\n",
       "      <th>Documentary</th>\n",
       "      <th>Fiction</th>\n",
       "      <th>War</th>\n",
       "      <th>Comedy</th>\n",
       "      <th>Western</th>\n",
       "      <th>Sport</th>\n",
       "      <th>Thriller</th>\n",
       "      <th>Biography</th>\n",
       "      <th>History</th>\n",
       "    </tr>\n",
       "  </thead>\n",
       "  <tbody>\n",
       "    <tr>\n",
       "      <th>0</th>\n",
       "      <td>0.889163</td>\n",
       "      <td>0.509677</td>\n",
       "      <td>0.000000</td>\n",
       "      <td>0.037174</td>\n",
       "      <td>0.001563</td>\n",
       "      <td>1.000000</td>\n",
       "      <td>0.524453</td>\n",
       "      <td>0.007361</td>\n",
       "      <td>0.000000</td>\n",
       "      <td>0.603479</td>\n",
       "      <td>...</td>\n",
       "      <td>0.0</td>\n",
       "      <td>0.0</td>\n",
       "      <td>0.0</td>\n",
       "      <td>0.0</td>\n",
       "      <td>0.0</td>\n",
       "      <td>0.0</td>\n",
       "      <td>0.0</td>\n",
       "      <td>0.0</td>\n",
       "      <td>0.0</td>\n",
       "      <td>0.0</td>\n",
       "    </tr>\n",
       "    <tr>\n",
       "      <th>1</th>\n",
       "      <td>0.370690</td>\n",
       "      <td>0.480645</td>\n",
       "      <td>0.024478</td>\n",
       "      <td>0.043478</td>\n",
       "      <td>0.062500</td>\n",
       "      <td>0.406840</td>\n",
       "      <td>0.278865</td>\n",
       "      <td>0.073622</td>\n",
       "      <td>0.000000</td>\n",
       "      <td>0.244515</td>\n",
       "      <td>...</td>\n",
       "      <td>0.0</td>\n",
       "      <td>0.0</td>\n",
       "      <td>0.0</td>\n",
       "      <td>0.0</td>\n",
       "      <td>0.0</td>\n",
       "      <td>0.0</td>\n",
       "      <td>0.0</td>\n",
       "      <td>0.0</td>\n",
       "      <td>0.0</td>\n",
       "      <td>0.0</td>\n",
       "    </tr>\n",
       "    <tr>\n",
       "      <th>2</th>\n",
       "      <td>0.740148</td>\n",
       "      <td>0.412903</td>\n",
       "      <td>0.000000</td>\n",
       "      <td>0.007000</td>\n",
       "      <td>0.017188</td>\n",
       "      <td>0.263080</td>\n",
       "      <td>0.163255</td>\n",
       "      <td>0.017816</td>\n",
       "      <td>0.023256</td>\n",
       "      <td>0.196284</td>\n",
       "      <td>...</td>\n",
       "      <td>0.0</td>\n",
       "      <td>0.0</td>\n",
       "      <td>0.0</td>\n",
       "      <td>0.0</td>\n",
       "      <td>0.0</td>\n",
       "      <td>0.0</td>\n",
       "      <td>0.0</td>\n",
       "      <td>1.0</td>\n",
       "      <td>0.0</td>\n",
       "      <td>0.0</td>\n",
       "    </tr>\n",
       "    <tr>\n",
       "      <th>3</th>\n",
       "      <td>1.000000</td>\n",
       "      <td>0.464516</td>\n",
       "      <td>0.956522</td>\n",
       "      <td>1.000000</td>\n",
       "      <td>0.042188</td>\n",
       "      <td>0.589253</td>\n",
       "      <td>0.677216</td>\n",
       "      <td>0.162561</td>\n",
       "      <td>0.000000</td>\n",
       "      <td>0.533702</td>\n",
       "      <td>...</td>\n",
       "      <td>0.0</td>\n",
       "      <td>0.0</td>\n",
       "      <td>0.0</td>\n",
       "      <td>0.0</td>\n",
       "      <td>0.0</td>\n",
       "      <td>0.0</td>\n",
       "      <td>0.0</td>\n",
       "      <td>1.0</td>\n",
       "      <td>0.0</td>\n",
       "      <td>0.0</td>\n",
       "    </tr>\n",
       "    <tr>\n",
       "      <th>4</th>\n",
       "      <td>0.567734</td>\n",
       "      <td>0.361290</td>\n",
       "      <td>0.020652</td>\n",
       "      <td>0.023043</td>\n",
       "      <td>0.001000</td>\n",
       "      <td>0.096066</td>\n",
       "      <td>0.125579</td>\n",
       "      <td>0.002852</td>\n",
       "      <td>0.023256</td>\n",
       "      <td>0.145681</td>\n",
       "      <td>...</td>\n",
       "      <td>0.0</td>\n",
       "      <td>0.0</td>\n",
       "      <td>0.0</td>\n",
       "      <td>0.0</td>\n",
       "      <td>0.0</td>\n",
       "      <td>0.0</td>\n",
       "      <td>0.0</td>\n",
       "      <td>0.0</td>\n",
       "      <td>0.0</td>\n",
       "      <td>0.0</td>\n",
       "    </tr>\n",
       "  </tbody>\n",
       "</table>\n",
       "<p>5 rows × 10235 columns</p>\n",
       "</div>"
      ],
      "text/plain": [
       "   num_critic_for_reviews  duration  director_facebook_likes  \\\n",
       "0                0.889163  0.509677                 0.000000   \n",
       "1                0.370690  0.480645                 0.024478   \n",
       "2                0.740148  0.412903                 0.000000   \n",
       "3                1.000000  0.464516                 0.956522   \n",
       "4                0.567734  0.361290                 0.020652   \n",
       "\n",
       "   actor_3_facebook_likes  actor_1_facebook_likes     gross  num_voted_users  \\\n",
       "0                0.037174                0.001563  1.000000         0.524453   \n",
       "1                0.043478                0.062500  0.406840         0.278865   \n",
       "2                0.007000                0.017188  0.263080         0.163255   \n",
       "3                1.000000                0.042188  0.589253         0.677216   \n",
       "4                0.023043                0.001000  0.096066         0.125579   \n",
       "\n",
       "   cast_total_facebook_likes  facenumber_in_poster  num_user_for_reviews  ...  \\\n",
       "0                   0.007361              0.000000              0.603479  ...   \n",
       "1                   0.073622              0.000000              0.244515  ...   \n",
       "2                   0.017816              0.023256              0.196284  ...   \n",
       "3                   0.162561              0.000000              0.533702  ...   \n",
       "4                   0.002852              0.023256              0.145681  ...   \n",
       "\n",
       "   Drama  Documentary  Fiction  War  Comedy  Western  Sport  Thriller  \\\n",
       "0    0.0          0.0      0.0  0.0     0.0      0.0    0.0       0.0   \n",
       "1    0.0          0.0      0.0  0.0     0.0      0.0    0.0       0.0   \n",
       "2    0.0          0.0      0.0  0.0     0.0      0.0    0.0       1.0   \n",
       "3    0.0          0.0      0.0  0.0     0.0      0.0    0.0       1.0   \n",
       "4    0.0          0.0      0.0  0.0     0.0      0.0    0.0       0.0   \n",
       "\n",
       "   Biography  History  \n",
       "0        0.0      0.0  \n",
       "1        0.0      0.0  \n",
       "2        0.0      0.0  \n",
       "3        0.0      0.0  \n",
       "4        0.0      0.0  \n",
       "\n",
       "[5 rows x 10235 columns]"
      ]
     },
     "execution_count": 9,
     "metadata": {},
     "output_type": "execute_result"
    }
   ],
   "source": [
    "train = scaler.fit_transform(data.drop(columns = cate+drop))\n",
    "train = pd.DataFrame(train,columns = data.drop(columns = cate+drop).columns)\n",
    "\n",
    "encoder = OneHotEncoder(sparse=False,handle_unknown='ignore')\n",
    "onehot = encoder.fit_transform(data[cate])\n",
    "onehot = pd.DataFrame(onehot,columns = [x for y in encoder.categories_ for x in y])\n",
    "\n",
    "genre = set([y for x in data['genres'].str.split() for y in x ])\n",
    "multihot = pd.DataFrame(columns = genre)\n",
    "for item in data.genres.str.split():\n",
    "    temp = pd.DataFrame(np.zeros([1,multihot.shape[1]]),columns = genre)\n",
    "    for g in item:\n",
    "        temp[g] = 1\n",
    "    multihot = multihot.append(temp)\n",
    "multihot.reset_index(drop = True,inplace = True)\n",
    "\n",
    "# Train contains transformed data and has same index as data\n",
    "train = pd.concat([train,onehot,multihot],axis = 1)\n",
    "train.fillna(0,inplace = True)\n",
    "print(train.shape)\n",
    "train.head()"
   ]
  },
  {
   "cell_type": "markdown",
   "id": "17031a68-a23e-460c-a9bb-f77d38c34618",
   "metadata": {},
   "source": [
    "# Modelling"
   ]
  },
  {
   "cell_type": "code",
   "execution_count": 10,
   "id": "ec0ce003-ddce-4bce-8bfd-92ff5a5168c1",
   "metadata": {},
   "outputs": [],
   "source": [
    "kmeans = KMeans(n_clusters=500)\n",
    "kmeans.fit(train)\n",
    "l1 = pd.DataFrame(kmeans.labels_)\n",
    "data['l1'] = l1"
   ]
  },
  {
   "cell_type": "code",
   "execution_count": 11,
   "id": "92a83f7d-6d9d-4044-8b6d-628d211e4e94",
   "metadata": {},
   "outputs": [
    {
     "name": "stdout",
     "output_type": "stream",
     "text": [
      "186    79\n",
      "13     56\n",
      "34     49\n",
      "16     49\n",
      "10     44\n",
      "       ..\n",
      "25      1\n",
      "493     1\n",
      "360     1\n",
      "312     1\n",
      "440     1\n",
      "Length: 500, dtype: int64\n"
     ]
    },
    {
     "data": {
      "image/png": "[encoded data removed]",
      "text/plain": [
       "<Figure size 432x288 with 1 Axes>"
      ]
     },
     "metadata": {
      "needs_background": "light"
     },
     "output_type": "display_data"
    }
   ],
   "source": [
    "print(l1.value_counts())\n",
    "plt.hist(l1.value_counts(),bins = l1.value_counts().max())\n",
    "plt.xlabel('Size of Cluster')\n",
    "plt.ylabel('# of Clusters')\n",
    "plt.title('K-Means Histogram of Clusters')\n",
    "plt.show()"
   ]
  },
  {
   "cell_type": "code",
   "execution_count": 12,
   "id": "b6112e49-e54c-4493-a6fd-80f60bca5be4",
   "metadata": {},
   "outputs": [],
   "source": [
    "dbscan = DBSCAN(eps = 2.8,min_samples = 2)\n",
    "dbscan.fit(train)\n",
    "l2 = pd.DataFrame(dbscan.labels_)\n",
    "data['l2'] = l2"
   ]
  },
  {
   "cell_type": "code",
   "execution_count": 13,
   "id": "e1912a36-dc24-4845-a2bc-fe434fc391a2",
   "metadata": {},
   "outputs": [
    {
     "name": "stdout",
     "output_type": "stream",
     "text": [
      "-1      2693\n",
      " 14      686\n",
      " 174      24\n",
      " 45       24\n",
      " 105      23\n",
      "        ... \n",
      " 281       2\n",
      " 282       2\n",
      " 114       2\n",
      " 284       2\n",
      " 419       2\n",
      "Length: 421, dtype: int64\n"
     ]
    },
    {
     "data": {
      "image/png": "[encoded data removed]",
      "text/plain": [
       "<Figure size 432x288 with 1 Axes>"
      ]
     },
     "metadata": {
      "needs_background": "light"
     },
     "output_type": "display_data"
    }
   ],
   "source": [
    "print(l2.value_counts())\n",
    "plt.hist(l2.value_counts(),bins = 140)\n",
    "plt.xlabel('Size of Cluster')\n",
    "plt.ylabel('# of Clusters')\n",
    "plt.title('Histogram of Clusters')\n",
    "plt.show()"
   ]
  },
  {
   "cell_type": "markdown",
   "id": "ab68786e-7b05-43cf-b989-4dbb6d858834",
   "metadata": {},
   "source": [
    "## Evaluation"
   ]
  },
  {
   "cell_type": "code",
   "execution_count": 14,
   "id": "9f3402e6-de22-4625-a20e-eaac415294ec",
   "metadata": {},
   "outputs": [],
   "source": [
    "# Append cosine sim between input and centroid\n",
    "from sklearn.metrics.pairwise import cosine_similarity\n",
    "sim = []\n",
    "for i in range(len(train)):\n",
    "    label = int(data['l1'][i])\n",
    "    sim.append(cosine_similarity(kmeans.cluster_centers_[label:(label+1),:],train.iloc[i:(i+1),:])[0][0])\n",
    "len(sim)\n",
    "data['sim'] = sim"
   ]
  },
  {
   "cell_type": "code",
   "execution_count": 15,
   "id": "231b5ede-8ced-47dd-953a-8d45e89afca6",
   "metadata": {
    "tags": []
   },
   "outputs": [],
   "source": [
    "# Grab clusters that has more than 20 movies to compare with Cosine sim\n",
    "# Takes ~10 min to execute\n",
    "clus_over20 = l1.value_counts()[l1.value_counts()>20].index.tolist()\n",
    "clus_over20 = [x[0] for x in clus_over20]\n",
    "\n",
    "std_k_list = []\n",
    "std_cos_list = []\n",
    "for i in range(len(clus_over20)):\n",
    "    input_ind = data.loc[data['l1']==clus_over20[i]].index[0]\n",
    "    # kmeans\n",
    "    clus = train.loc[data['l1']==data['l1'][input_ind],:]\n",
    "    sim_k = []\n",
    "    for i in range(len(clus)):\n",
    "        sim_k.append(cosine_similarity(train.iloc[input_ind:(input_ind+1),:],clus.iloc[i:(i+1),:]))\n",
    "    sim_k = np.array(sim_k).flatten()\n",
    "    sim_k.sort()\n",
    "    sim_k = sim_k[-20:]\n",
    "    std_k_list.append(np.std(sim_k))\n",
    "    # cos \n",
    "    sim_cos = []\n",
    "    for i in range(len(train)):\n",
    "        sim_cos.append(cosine_similarity(train.iloc[input_ind:(input_ind+1),:],train.iloc[i:(i+1),:]))\n",
    "    sim_cos = np.array(sim_cos).flatten()\n",
    "    sim_cos.sort()\n",
    "    sim_cos = sim_cos[-20:]\n",
    "    std_cos_list.append(np.std(sim_cos))\n"
   ]
  },
  {
   "cell_type": "code",
   "execution_count": 16,
   "id": "5c9192a4-f707-4026-aad9-0f3376204d2a",
   "metadata": {},
   "outputs": [
    {
     "data": {
      "image/png": "[encoded data removed]",
      "text/plain": [
       "<Figure size 720x720 with 1 Axes>"
      ]
     },
     "metadata": {
      "needs_background": "light"
     },
     "output_type": "display_data"
    }
   ],
   "source": [
    "# Make side by side bar plot\n",
    "plt.rcParams['figure.figsize'] = [10,10]\n",
    "plt.rcParams.update({'font.size': 15})\n",
    "res = pd.DataFrame({'km':std_k_list,'cos' : std_cos_list})\n",
    "res = res.sort_values(by = 'km',ascending=False)\n",
    "ran = np.arange(len(res))\n",
    "\n",
    "plt.bar(ran - 0.15, res['km'], width=0.3, label = 'KMeans')\n",
    "plt.bar(ran + 0.15, res['cos'], width=0.3, label = 'Cosine_Similarity')\n",
    "plt.ylabel('Standrad Deviation')\n",
    "plt.xlabel('Input Movie Index')\n",
    "plt.title('Comparison of Standard Deviation of top 20 recommendations')\n",
    "plt.legend()\n",
    "plt.show()"
   ]
  },
  {
   "cell_type": "code",
   "execution_count": 17,
   "id": "22ec3f3b-60db-4927-b87c-ccd9d33b16fb",
   "metadata": {},
   "outputs": [
    {
     "data": {
      "text/plain": [
       "Ttest_relResult(statistic=5.088057866107237, pvalue=1.4230029718989879e-05)"
      ]
     },
     "execution_count": 17,
     "metadata": {},
     "output_type": "execute_result"
    }
   ],
   "source": [
    "# Paired two sample t test\n",
    "ttest_rel(res.km,res.cos)"
   ]
  },
  {
   "cell_type": "code",
   "execution_count": null,
   "id": "aa6325b9-8ede-4de7-9c2d-24048dc9e711",
   "metadata": {},
   "outputs": [],
   "source": []
  }
 ],
 "metadata": {
  "kernelspec": {
   "display_name": "Python 3 (ipykernel)",
   "language": "python",
   "name": "python3"
  },
  "language_info": {
   "codemirror_mode": {
    "name": "ipython",
    "version": 3
   },
   "file_extension": ".py",
   "mimetype": "text/x-python",
   "name": "python",
   "nbconvert_exporter": "python",
   "pygments_lexer": "ipython3",
   "version": "3.9.7"
  }
 },
 "nbformat": 4,
 "nbformat_minor": 5
}
