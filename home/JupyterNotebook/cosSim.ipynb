{
 "cells": [
  {
   "cell_type": "code",
   "execution_count": 23,
   "metadata": {},
   "outputs": [],
   "source": [
    "import pandas as pd\n",
    "import numpy as np\n",
    "from sklearn.metrics.pairwise import cosine_similarity"
   ]
  },
  {
   "cell_type": "code",
   "execution_count": 24,
   "metadata": {},
   "outputs": [
    {
     "data": {
      "text/html": [
       "<div>\n",
       "<style scoped>\n",
       "    .dataframe tbody tr th:only-of-type {\n",
       "        vertical-align: middle;\n",
       "    }\n",
       "\n",
       "    .dataframe tbody tr th {\n",
       "        vertical-align: top;\n",
       "    }\n",
       "\n",
       "    .dataframe thead th {\n",
       "        text-align: right;\n",
       "    }\n",
       "</style>\n",
       "<table border=\"1\" class=\"dataframe\">\n",
       "  <thead>\n",
       "    <tr style=\"text-align: right;\">\n",
       "      <th></th>\n",
       "      <th>director_name</th>\n",
       "      <th>actor_1_name</th>\n",
       "      <th>actor_2_name</th>\n",
       "      <th>actor_3_name</th>\n",
       "      <th>genres</th>\n",
       "      <th>movie_title</th>\n",
       "      <th>comb</th>\n",
       "    </tr>\n",
       "  </thead>\n",
       "  <tbody>\n",
       "    <tr>\n",
       "      <th>0</th>\n",
       "      <td>James Cameron</td>\n",
       "      <td>CCH Pounder</td>\n",
       "      <td>Joel David Moore</td>\n",
       "      <td>Wes Studi</td>\n",
       "      <td>Action Adventure Fantasy Sci-Fi</td>\n",
       "      <td>avatar</td>\n",
       "      <td>CCH Pounder Joel David Moore Wes Studi James C...</td>\n",
       "    </tr>\n",
       "    <tr>\n",
       "      <th>1</th>\n",
       "      <td>Gore Verbinski</td>\n",
       "      <td>Johnny Depp</td>\n",
       "      <td>Orlando Bloom</td>\n",
       "      <td>Jack Davenport</td>\n",
       "      <td>Action Adventure Fantasy</td>\n",
       "      <td>pirates of the caribbean: at world's end</td>\n",
       "      <td>Johnny Depp Orlando Bloom Jack Davenport Gore ...</td>\n",
       "    </tr>\n",
       "    <tr>\n",
       "      <th>2</th>\n",
       "      <td>Sam Mendes</td>\n",
       "      <td>Christoph Waltz</td>\n",
       "      <td>Rory Kinnear</td>\n",
       "      <td>Stephanie Sigman</td>\n",
       "      <td>Action Adventure Thriller</td>\n",
       "      <td>spectre</td>\n",
       "      <td>Christoph Waltz Rory Kinnear Stephanie Sigman ...</td>\n",
       "    </tr>\n",
       "    <tr>\n",
       "      <th>3</th>\n",
       "      <td>Christopher Nolan</td>\n",
       "      <td>Tom Hardy</td>\n",
       "      <td>Christian Bale</td>\n",
       "      <td>Joseph Gordon-Levitt</td>\n",
       "      <td>Action Thriller</td>\n",
       "      <td>the dark knight rises</td>\n",
       "      <td>Tom Hardy Christian Bale Joseph Gordon-Levitt ...</td>\n",
       "    </tr>\n",
       "    <tr>\n",
       "      <th>4</th>\n",
       "      <td>Doug Walker</td>\n",
       "      <td>Doug Walker</td>\n",
       "      <td>Rob Walker</td>\n",
       "      <td>unknown</td>\n",
       "      <td>Documentary</td>\n",
       "      <td>star wars: episode vii - the force awakens    ...</td>\n",
       "      <td>Doug Walker Rob Walker unknown Doug Walker Doc...</td>\n",
       "    </tr>\n",
       "    <tr>\n",
       "      <th>...</th>\n",
       "      <td>...</td>\n",
       "      <td>...</td>\n",
       "      <td>...</td>\n",
       "      <td>...</td>\n",
       "      <td>...</td>\n",
       "      <td>...</td>\n",
       "      <td>...</td>\n",
       "    </tr>\n",
       "    <tr>\n",
       "      <th>6361</th>\n",
       "      <td>Kelly Fremon Craig</td>\n",
       "      <td>Rachel McAdams</td>\n",
       "      <td>Abby Ryder Fortson</td>\n",
       "      <td>Benny Safdie</td>\n",
       "      <td>Drama Comedy</td>\n",
       "      <td>are you there god? it's me, margaret</td>\n",
       "      <td>Rachel McAdams Abby Ryder Fortson Benny Safdie...</td>\n",
       "    </tr>\n",
       "    <tr>\n",
       "      <th>6362</th>\n",
       "      <td>Josh Gordon &amp; Will Speck</td>\n",
       "      <td>Anthony Ramos</td>\n",
       "      <td>Naomi Scott</td>\n",
       "      <td>Zachary Quinto</td>\n",
       "      <td>Science Fiction Comedy Romance</td>\n",
       "      <td>distant</td>\n",
       "      <td>Anthony Ramos Naomi Scott Zachary Quinto Josh ...</td>\n",
       "    </tr>\n",
       "    <tr>\n",
       "      <th>6363</th>\n",
       "      <td>Olivia Wilde</td>\n",
       "      <td>Florence Pugh</td>\n",
       "      <td>Harry Styles</td>\n",
       "      <td>Olivia Wilde</td>\n",
       "      <td>Drama Mystery Thriller</td>\n",
       "      <td>don't worry darling</td>\n",
       "      <td>Florence Pugh Harry Styles Olivia Wilde Olivia...</td>\n",
       "    </tr>\n",
       "    <tr>\n",
       "      <th>6364</th>\n",
       "      <td>Nicholas Stoller</td>\n",
       "      <td>Billy Eichner</td>\n",
       "      <td>Luke Macfarlane</td>\n",
       "      <td>Ts Madison</td>\n",
       "      <td>Adventure Comedy Family Science Fiction</td>\n",
       "      <td>bros</td>\n",
       "      <td>Billy Eichner Luke Macfarlane Ts Madison Nicho...</td>\n",
       "    </tr>\n",
       "    <tr>\n",
       "      <th>6365</th>\n",
       "      <td>NaN</td>\n",
       "      <td>NaN</td>\n",
       "      <td>NaN</td>\n",
       "      <td>NaN</td>\n",
       "      <td>Comedy</td>\n",
       "      <td>NaN</td>\n",
       "      <td>NaN</td>\n",
       "    </tr>\n",
       "  </tbody>\n",
       "</table>\n",
       "<p>6366 rows × 7 columns</p>\n",
       "</div>"
      ],
      "text/plain": [
       "                 director_name     actor_1_name        actor_2_name  \\\n",
       "0                James Cameron      CCH Pounder    Joel David Moore   \n",
       "1               Gore Verbinski      Johnny Depp       Orlando Bloom   \n",
       "2                   Sam Mendes  Christoph Waltz        Rory Kinnear   \n",
       "3            Christopher Nolan        Tom Hardy      Christian Bale   \n",
       "4                  Doug Walker      Doug Walker          Rob Walker   \n",
       "...                        ...              ...                 ...   \n",
       "6361        Kelly Fremon Craig   Rachel McAdams  Abby Ryder Fortson   \n",
       "6362  Josh Gordon & Will Speck    Anthony Ramos         Naomi Scott   \n",
       "6363              Olivia Wilde    Florence Pugh        Harry Styles   \n",
       "6364          Nicholas Stoller    Billy Eichner     Luke Macfarlane   \n",
       "6365                       NaN              NaN                 NaN   \n",
       "\n",
       "              actor_3_name                                   genres  \\\n",
       "0                Wes Studi          Action Adventure Fantasy Sci-Fi   \n",
       "1           Jack Davenport                 Action Adventure Fantasy   \n",
       "2         Stephanie Sigman                Action Adventure Thriller   \n",
       "3     Joseph Gordon-Levitt                          Action Thriller   \n",
       "4                  unknown                              Documentary   \n",
       "...                    ...                                      ...   \n",
       "6361          Benny Safdie                             Drama Comedy   \n",
       "6362        Zachary Quinto           Science Fiction Comedy Romance   \n",
       "6363          Olivia Wilde                   Drama Mystery Thriller   \n",
       "6364            Ts Madison  Adventure Comedy Family Science Fiction   \n",
       "6365                   NaN                                   Comedy   \n",
       "\n",
       "                                            movie_title  \\\n",
       "0                                                avatar   \n",
       "1              pirates of the caribbean: at world's end   \n",
       "2                                               spectre   \n",
       "3                                 the dark knight rises   \n",
       "4     star wars: episode vii - the force awakens    ...   \n",
       "...                                                 ...   \n",
       "6361               are you there god? it's me, margaret   \n",
       "6362                                            distant   \n",
       "6363                                don't worry darling   \n",
       "6364                                               bros   \n",
       "6365                                                NaN   \n",
       "\n",
       "                                                   comb  \n",
       "0     CCH Pounder Joel David Moore Wes Studi James C...  \n",
       "1     Johnny Depp Orlando Bloom Jack Davenport Gore ...  \n",
       "2     Christoph Waltz Rory Kinnear Stephanie Sigman ...  \n",
       "3     Tom Hardy Christian Bale Joseph Gordon-Levitt ...  \n",
       "4     Doug Walker Rob Walker unknown Doug Walker Doc...  \n",
       "...                                                 ...  \n",
       "6361  Rachel McAdams Abby Ryder Fortson Benny Safdie...  \n",
       "6362  Anthony Ramos Naomi Scott Zachary Quinto Josh ...  \n",
       "6363  Florence Pugh Harry Styles Olivia Wilde Olivia...  \n",
       "6364  Billy Eichner Luke Macfarlane Ts Madison Nicho...  \n",
       "6365                                                NaN  \n",
       "\n",
       "[6366 rows x 7 columns]"
      ]
     },
     "execution_count": 24,
     "metadata": {},
     "output_type": "execute_result"
    }
   ],
   "source": [
    "df=pd.read_csv('dataset/preprocessed_dataset.csv')\n",
    "df"
   ]
  },
  {
   "cell_type": "code",
   "execution_count": 25,
   "metadata": {},
   "outputs": [],
   "source": [
    "for i, genre in enumerate(df['genres']): # genres has a few attributes so we have to splite each genre\n",
    "    df['genres'][i] = str(genre).split()"
   ]
  },
  {
   "cell_type": "code",
   "execution_count": 26,
   "metadata": {},
   "outputs": [],
   "source": [
    "from sklearn.feature_extraction.text import CountVectorizer"
   ]
  },
  {
   "cell_type": "code",
   "execution_count": 38,
   "metadata": {},
   "outputs": [
    {
     "name": "stdout",
     "output_type": "stream",
     "text": [
      "69\n"
     ]
    }
   ],
   "source": [
    "for i in range(len(df['movie_title'])):\n",
    "    if df['movie_title'][i] == 'iron man':\n",
    "        index = i\n",
    "print(index)"
   ]
  },
  {
   "cell_type": "code",
   "execution_count": 39,
   "metadata": {},
   "outputs": [],
   "source": [
    "cv = CountVectorizer()\n",
    "vectors = cv.fit_transform(df['comb'].astype('U'))\n",
    "target = vectors[69]"
   ]
  },
  {
   "cell_type": "code",
   "execution_count": 40,
   "metadata": {},
   "outputs": [],
   "source": [
    "# Cosine Similarity\n",
    "\n",
    "result = cosine_similarity(vectors,target)\n",
    "\n",
    "similarities = [0] * len(result)\n",
    "for i in range(len(result)):\n",
    "    similarities[i] = result[i][0]\n",
    "    "
   ]
  },
  {
   "cell_type": "code",
   "execution_count": 41,
   "metadata": {},
   "outputs": [
    {
     "name": "stdout",
     "output_type": "stream",
     "text": [
      "[69, 80, 32, 445, 682, 3767, 8, 17, 27, 794, 40, 2499, 168, 425, 453, 366, 79, 412, 1805, 2991, 1410]\n",
      "[1.0, 0.8823529411764706, 0.7399400733959438, 0.5185629788417315, 0.5009794328681195, 0.48507125007266594, 0.47087095579741867, 0.47087095579741867, 0.47087095579741867, 0.47087095579741867, 0.42008402520840293, 0.42008402520840293, 0.40360367639778744, 0.40360367639778744, 0.36563621206356534, 0.36380343755449945, 0.35007002100700246, 0.35007002100700246, 0.35007002100700246, 0.35007002100700246, 0.34299717028501764]\n"
     ]
    }
   ],
   "source": [
    "# sorted_similarities = sorted(similarities, key = float, reverse=True)\n",
    "max = 0\n",
    "top_20_similarities = [0] * 21\n",
    "indexes_of_top_20 = [0] * 21\n",
    "for i in range(21):\n",
    "    for j in range(len(similarities)):\n",
    "        if similarities[max] < similarities[j]:\n",
    "            max = j\n",
    "    indexes_of_top_20[i] = max\n",
    "    top_20_similarities[i] = similarities[max]\n",
    "    similarities[max] = 0.0\n",
    "print(indexes_of_top_20)\n",
    "print(top_20_similarities)"
   ]
  },
  {
   "cell_type": "code",
   "execution_count": 42,
   "metadata": {},
   "outputs": [
    {
     "name": "stdout",
     "output_type": "stream",
     "text": [
      "['iron man 2', 'iron man 3', 'deep impact', 'zathura: a space adventure', 'made', 'avengers: age of ultron', 'the avengers', 'captain america: civil war', 'the avengers', 'tron: legacy', 'tron: legacy', 'g.i. joe: retaliation', 'the core', 'four christmases', 'sherlock holmes', 'the jungle book', 'open season', 'the jungle book', 'charlie bartlett', 'identity thief']\n"
     ]
    }
   ],
   "source": [
    "# retrieving movie title for top_20\n",
    "top_20_movie_titles = ['NA'] * 20\n",
    "\n",
    "for i in range(20):\n",
    "    top_20_movie_titles[i] = df['movie_title'][indexes_of_top_20[i+1]] # first index is the same movie\n",
    "       \n",
    "print(top_20_movie_titles)"
   ]
  }
 ],
 "metadata": {
  "interpreter": {
   "hash": "eae9651e0c7efad92476ddd7e0198d8fcf9d80ce1bc0a58cf70878efe96f23d6"
  },
  "kernelspec": {
   "display_name": "Python 3.9.7",
   "language": "python",
   "name": "python3"
  },
  "language_info": {
   "codemirror_mode": {
    "name": "ipython",
    "version": 3
   },
   "file_extension": ".py",
   "mimetype": "text/x-python",
   "name": "python",
   "nbconvert_exporter": "python",
   "pygments_lexer": "ipython3",
   "version": "3.9.7"
  },
  "orig_nbformat": 4
 },
 "nbformat": 4,
 "nbformat_minor": 2
}
