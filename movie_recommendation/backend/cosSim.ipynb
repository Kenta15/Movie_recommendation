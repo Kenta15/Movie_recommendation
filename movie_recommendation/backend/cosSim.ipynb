{
 "cells": [
  {
   "cell_type": "code",
   "execution_count": 1,
   "metadata": {},
   "outputs": [],
   "source": [
    "import pandas as pd\n",
    "import numpy as np\n",
    "import json\n",
    "from sklearn.metrics.pairwise import cosine_similarity"
   ]
  },
  {
   "cell_type": "code",
   "execution_count": 2,
   "metadata": {},
   "outputs": [
    {
     "data": {
      "text/html": [
       "<div>\n",
       "<style scoped>\n",
       "    .dataframe tbody tr th:only-of-type {\n",
       "        vertical-align: middle;\n",
       "    }\n",
       "\n",
       "    .dataframe tbody tr th {\n",
       "        vertical-align: top;\n",
       "    }\n",
       "\n",
       "    .dataframe thead th {\n",
       "        text-align: right;\n",
       "    }\n",
       "</style>\n",
       "<table border=\"1\" class=\"dataframe\">\n",
       "  <thead>\n",
       "    <tr style=\"text-align: right;\">\n",
       "      <th></th>\n",
       "      <th>director_name</th>\n",
       "      <th>actor_1_name</th>\n",
       "      <th>actor_2_name</th>\n",
       "      <th>actor_3_name</th>\n",
       "      <th>genres</th>\n",
       "      <th>movie_title</th>\n",
       "      <th>comb</th>\n",
       "    </tr>\n",
       "  </thead>\n",
       "  <tbody>\n",
       "    <tr>\n",
       "      <th>0</th>\n",
       "      <td>James Cameron</td>\n",
       "      <td>CCH Pounder</td>\n",
       "      <td>Joel David Moore</td>\n",
       "      <td>Wes Studi</td>\n",
       "      <td>Action Adventure Fantasy Sci-Fi</td>\n",
       "      <td>avatar</td>\n",
       "      <td>CCH Pounder Joel David Moore Wes Studi James C...</td>\n",
       "    </tr>\n",
       "    <tr>\n",
       "      <th>1</th>\n",
       "      <td>Gore Verbinski</td>\n",
       "      <td>Johnny Depp</td>\n",
       "      <td>Orlando Bloom</td>\n",
       "      <td>Jack Davenport</td>\n",
       "      <td>Action Adventure Fantasy</td>\n",
       "      <td>pirates of the caribbean: at world's end</td>\n",
       "      <td>Johnny Depp Orlando Bloom Jack Davenport Gore ...</td>\n",
       "    </tr>\n",
       "    <tr>\n",
       "      <th>2</th>\n",
       "      <td>Sam Mendes</td>\n",
       "      <td>Christoph Waltz</td>\n",
       "      <td>Rory Kinnear</td>\n",
       "      <td>Stephanie Sigman</td>\n",
       "      <td>Action Adventure Thriller</td>\n",
       "      <td>spectre</td>\n",
       "      <td>Christoph Waltz Rory Kinnear Stephanie Sigman ...</td>\n",
       "    </tr>\n",
       "    <tr>\n",
       "      <th>3</th>\n",
       "      <td>Christopher Nolan</td>\n",
       "      <td>Tom Hardy</td>\n",
       "      <td>Christian Bale</td>\n",
       "      <td>Joseph Gordon-Levitt</td>\n",
       "      <td>Action Thriller</td>\n",
       "      <td>the dark knight rises</td>\n",
       "      <td>Tom Hardy Christian Bale Joseph Gordon-Levitt ...</td>\n",
       "    </tr>\n",
       "    <tr>\n",
       "      <th>4</th>\n",
       "      <td>Doug Walker</td>\n",
       "      <td>Doug Walker</td>\n",
       "      <td>Rob Walker</td>\n",
       "      <td>unknown</td>\n",
       "      <td>Documentary</td>\n",
       "      <td>star wars: episode vii - the force awakens    ...</td>\n",
       "      <td>Doug Walker Rob Walker unknown Doug Walker Doc...</td>\n",
       "    </tr>\n",
       "    <tr>\n",
       "      <th>...</th>\n",
       "      <td>...</td>\n",
       "      <td>...</td>\n",
       "      <td>...</td>\n",
       "      <td>...</td>\n",
       "      <td>...</td>\n",
       "      <td>...</td>\n",
       "      <td>...</td>\n",
       "    </tr>\n",
       "    <tr>\n",
       "      <th>6361</th>\n",
       "      <td>Kelly Fremon Craig</td>\n",
       "      <td>Rachel McAdams</td>\n",
       "      <td>Abby Ryder Fortson</td>\n",
       "      <td>Benny Safdie</td>\n",
       "      <td>Drama Comedy</td>\n",
       "      <td>are you there god? it's me, margaret</td>\n",
       "      <td>Rachel McAdams Abby Ryder Fortson Benny Safdie...</td>\n",
       "    </tr>\n",
       "    <tr>\n",
       "      <th>6362</th>\n",
       "      <td>Josh Gordon &amp; Will Speck</td>\n",
       "      <td>Anthony Ramos</td>\n",
       "      <td>Naomi Scott</td>\n",
       "      <td>Zachary Quinto</td>\n",
       "      <td>Science Fiction Comedy Romance</td>\n",
       "      <td>distant</td>\n",
       "      <td>Anthony Ramos Naomi Scott Zachary Quinto Josh ...</td>\n",
       "    </tr>\n",
       "    <tr>\n",
       "      <th>6363</th>\n",
       "      <td>Olivia Wilde</td>\n",
       "      <td>Florence Pugh</td>\n",
       "      <td>Harry Styles</td>\n",
       "      <td>Olivia Wilde</td>\n",
       "      <td>Drama Mystery Thriller</td>\n",
       "      <td>don't worry darling</td>\n",
       "      <td>Florence Pugh Harry Styles Olivia Wilde Olivia...</td>\n",
       "    </tr>\n",
       "    <tr>\n",
       "      <th>6364</th>\n",
       "      <td>Nicholas Stoller</td>\n",
       "      <td>Billy Eichner</td>\n",
       "      <td>Luke Macfarlane</td>\n",
       "      <td>Ts Madison</td>\n",
       "      <td>Adventure Comedy Family Science Fiction</td>\n",
       "      <td>bros</td>\n",
       "      <td>Billy Eichner Luke Macfarlane Ts Madison Nicho...</td>\n",
       "    </tr>\n",
       "    <tr>\n",
       "      <th>6365</th>\n",
       "      <td>NaN</td>\n",
       "      <td>NaN</td>\n",
       "      <td>NaN</td>\n",
       "      <td>NaN</td>\n",
       "      <td>Comedy</td>\n",
       "      <td>NaN</td>\n",
       "      <td>NaN</td>\n",
       "    </tr>\n",
       "  </tbody>\n",
       "</table>\n",
       "<p>6366 rows × 7 columns</p>\n",
       "</div>"
      ],
      "text/plain": [
       "                 director_name     actor_1_name        actor_2_name  \\\n",
       "0                James Cameron      CCH Pounder    Joel David Moore   \n",
       "1               Gore Verbinski      Johnny Depp       Orlando Bloom   \n",
       "2                   Sam Mendes  Christoph Waltz        Rory Kinnear   \n",
       "3            Christopher Nolan        Tom Hardy      Christian Bale   \n",
       "4                  Doug Walker      Doug Walker          Rob Walker   \n",
       "...                        ...              ...                 ...   \n",
       "6361        Kelly Fremon Craig   Rachel McAdams  Abby Ryder Fortson   \n",
       "6362  Josh Gordon & Will Speck    Anthony Ramos         Naomi Scott   \n",
       "6363              Olivia Wilde    Florence Pugh        Harry Styles   \n",
       "6364          Nicholas Stoller    Billy Eichner     Luke Macfarlane   \n",
       "6365                       NaN              NaN                 NaN   \n",
       "\n",
       "              actor_3_name                                   genres  \\\n",
       "0                Wes Studi          Action Adventure Fantasy Sci-Fi   \n",
       "1           Jack Davenport                 Action Adventure Fantasy   \n",
       "2         Stephanie Sigman                Action Adventure Thriller   \n",
       "3     Joseph Gordon-Levitt                          Action Thriller   \n",
       "4                  unknown                              Documentary   \n",
       "...                    ...                                      ...   \n",
       "6361          Benny Safdie                             Drama Comedy   \n",
       "6362        Zachary Quinto           Science Fiction Comedy Romance   \n",
       "6363          Olivia Wilde                   Drama Mystery Thriller   \n",
       "6364            Ts Madison  Adventure Comedy Family Science Fiction   \n",
       "6365                   NaN                                   Comedy   \n",
       "\n",
       "                                            movie_title  \\\n",
       "0                                                avatar   \n",
       "1              pirates of the caribbean: at world's end   \n",
       "2                                               spectre   \n",
       "3                                 the dark knight rises   \n",
       "4     star wars: episode vii - the force awakens    ...   \n",
       "...                                                 ...   \n",
       "6361               are you there god? it's me, margaret   \n",
       "6362                                            distant   \n",
       "6363                                don't worry darling   \n",
       "6364                                               bros   \n",
       "6365                                                NaN   \n",
       "\n",
       "                                                   comb  \n",
       "0     CCH Pounder Joel David Moore Wes Studi James C...  \n",
       "1     Johnny Depp Orlando Bloom Jack Davenport Gore ...  \n",
       "2     Christoph Waltz Rory Kinnear Stephanie Sigman ...  \n",
       "3     Tom Hardy Christian Bale Joseph Gordon-Levitt ...  \n",
       "4     Doug Walker Rob Walker unknown Doug Walker Doc...  \n",
       "...                                                 ...  \n",
       "6361  Rachel McAdams Abby Ryder Fortson Benny Safdie...  \n",
       "6362  Anthony Ramos Naomi Scott Zachary Quinto Josh ...  \n",
       "6363  Florence Pugh Harry Styles Olivia Wilde Olivia...  \n",
       "6364  Billy Eichner Luke Macfarlane Ts Madison Nicho...  \n",
       "6365                                                NaN  \n",
       "\n",
       "[6366 rows x 7 columns]"
      ]
     },
     "execution_count": 2,
     "metadata": {},
     "output_type": "execute_result"
    }
   ],
   "source": [
    "df=pd.read_csv('dataset/preprocessed_dataset.csv')\n",
    "df"
   ]
  },
  {
   "cell_type": "code",
   "execution_count": 3,
   "metadata": {},
   "outputs": [],
   "source": [
    "from sklearn.preprocessing import LabelEncoder"
   ]
  },
  {
   "cell_type": "code",
   "execution_count": 4,
   "metadata": {},
   "outputs": [
    {
     "name": "stdout",
     "output_type": "stream",
     "text": [
      "Adventure\n"
     ]
    }
   ],
   "source": [
    "for i, genre in enumerate(df['genres']): # genres has a few attributes so we have to splite each genre\n",
    "    df['genres'][i] = str(genre).split()\n",
    "print(df['genres'][0][1])"
   ]
  },
  {
   "cell_type": "code",
   "execution_count": 5,
   "metadata": {},
   "outputs": [],
   "source": [
    "# encoding\n",
    "# le = LabelEncoder()\n",
    "\n",
    "# for i, genre in enumerate(df['genres']): # encoding one row at the time\n",
    "#     df['genres'][i] = le.fit_transform(df.genres[i])\n",
    "\n",
    "# df['director_name'] = le.fit_transform(df.director_name.values)\n",
    "# df['actor_1_name'] = le.fit_transform(df.actor_1_name.values)\n",
    "# df['actor_2_name'] = le.fit_transform(df.actor_2_name.values)\n",
    "# df['actor_3_name'] = le.fit_transform(df.actor_3_name.values)\n",
    "# df = df.drop('movie_title',axis=1)\n",
    "# df"
   ]
  },
  {
   "cell_type": "code",
   "execution_count": 6,
   "metadata": {},
   "outputs": [],
   "source": [
    "from sklearn.feature_extraction.text import CountVectorizer"
   ]
  },
  {
   "cell_type": "code",
   "execution_count": 8,
   "metadata": {},
   "outputs": [
    {
     "name": "stdout",
     "output_type": "stream",
     "text": [
      "  (0, 1650)\t1\n",
      "  (0, 7554)\t1\n",
      "  (0, 4695)\t1\n",
      "  (0, 2319)\t1\n",
      "  (0, 6638)\t1\n",
      "  (0, 9902)\t1\n",
      "  (0, 9058)\t1\n",
      "  (0, 4528)\t1\n",
      "  (0, 1480)\t1\n",
      "  (0, 46)\t1\n",
      "  (0, 83)\t1\n",
      "  (0, 3068)\t1\n",
      "  (0, 8423)\t1\n",
      "  (0, 3165)\t1\n",
      "  (1, 46)\t1\n",
      "  (1, 83)\t1\n",
      "  (1, 3068)\t1\n",
      "  (1, 4712)\t1\n",
      "  (1, 2445)\t1\n",
      "  (1, 7135)\t1\n",
      "  (1, 1064)\t1\n",
      "  (1, 4486)\t1\n",
      "  (1, 2316)\t1\n",
      "  (1, 3713)\t1\n",
      "  (1, 9695)\t1\n",
      "  :\t:\n",
      "  (6362, 7646)\t1\n",
      "  (6362, 8885)\t1\n",
      "  (6363, 9335)\t1\n",
      "  (6363, 6760)\t1\n",
      "  (6363, 3994)\t1\n",
      "  (6363, 2681)\t1\n",
      "  (6363, 7094)\t2\n",
      "  (6363, 9953)\t2\n",
      "  (6363, 9067)\t1\n",
      "  (6363, 3245)\t1\n",
      "  (6363, 7604)\t1\n",
      "  (6364, 83)\t1\n",
      "  (6364, 1981)\t1\n",
      "  (6364, 3057)\t1\n",
      "  (6364, 990)\t1\n",
      "  (6364, 6905)\t1\n",
      "  (6364, 5882)\t1\n",
      "  (6364, 5841)\t1\n",
      "  (6364, 5777)\t1\n",
      "  (6364, 9025)\t1\n",
      "  (6364, 8424)\t1\n",
      "  (6364, 3170)\t1\n",
      "  (6364, 2821)\t1\n",
      "  (6364, 9516)\t1\n",
      "  (6365, 6799)\t1\n"
     ]
    }
   ],
   "source": [
    "cv = CountVectorizer()\n",
    "vectors = cv.fit_transform(df['comb'].astype('U'))\n",
    "print(vectors)"
   ]
  },
  {
   "cell_type": "code",
   "execution_count": 10,
   "metadata": {},
   "outputs": [
    {
     "ename": "ValueError",
     "evalue": "could not convert string to float: 'James Cameron'",
     "output_type": "error",
     "traceback": [
      "\u001b[0;31m---------------------------------------------------------------------------\u001b[0m",
      "\u001b[0;31mValueError\u001b[0m                                Traceback (most recent call last)",
      "\u001b[1;32m/Users/kentatanaka/Downloads/Classes/ECS171/Project/Movie_recommendation/movie_recommendation/backend/cosSim.ipynb Cell 8'\u001b[0m in \u001b[0;36m<cell line: 4>\u001b[0;34m()\u001b[0m\n\u001b[1;32m      <a href='vscode-notebook-cell:/Users/kentatanaka/Downloads/Classes/ECS171/Project/Movie_recommendation/movie_recommendation/backend/cosSim.ipynb#ch0000007?line=4'>5</a>\u001b[0m     Movie_1 \u001b[39m=\u001b[39m df\u001b[39m.\u001b[39miloc[\u001b[39m0\u001b[39m]\u001b[39m.\u001b[39marray\n\u001b[1;32m      <a href='vscode-notebook-cell:/Users/kentatanaka/Downloads/Classes/ECS171/Project/Movie_recommendation/movie_recommendation/backend/cosSim.ipynb#ch0000007?line=5'>6</a>\u001b[0m     \u001b[39m# Movie_2 = df.iloc[i].array\u001b[39;00m\n\u001b[0;32m----> <a href='vscode-notebook-cell:/Users/kentatanaka/Downloads/Classes/ECS171/Project/Movie_recommendation/movie_recommendation/backend/cosSim.ipynb#ch0000007?line=6'>7</a>\u001b[0m     result \u001b[39m=\u001b[39m cosine_similarity([Movie_1], vectors)\n\u001b[1;32m      <a href='vscode-notebook-cell:/Users/kentatanaka/Downloads/Classes/ECS171/Project/Movie_recommendation/movie_recommendation/backend/cosSim.ipynb#ch0000007?line=7'>8</a>\u001b[0m     similarities[i] \u001b[39m=\u001b[39m result[\u001b[39m0\u001b[39m][\u001b[39m0\u001b[39m]\n\u001b[1;32m      <a href='vscode-notebook-cell:/Users/kentatanaka/Downloads/Classes/ECS171/Project/Movie_recommendation/movie_recommendation/backend/cosSim.ipynb#ch0000007?line=8'>9</a>\u001b[0m \u001b[39mprint\u001b[39m(similarities)\n",
      "File \u001b[0;32m/opt/anaconda3/envs/djangoenv/lib/python3.9/site-packages/sklearn/metrics/pairwise.py:1251\u001b[0m, in \u001b[0;36mcosine_similarity\u001b[0;34m(X, Y, dense_output)\u001b[0m\n\u001b[1;32m   <a href='file:///opt/anaconda3/envs/djangoenv/lib/python3.9/site-packages/sklearn/metrics/pairwise.py?line=1216'>1217</a>\u001b[0m \u001b[39m\"\"\"Compute cosine similarity between samples in X and Y.\u001b[39;00m\n\u001b[1;32m   <a href='file:///opt/anaconda3/envs/djangoenv/lib/python3.9/site-packages/sklearn/metrics/pairwise.py?line=1217'>1218</a>\u001b[0m \n\u001b[1;32m   <a href='file:///opt/anaconda3/envs/djangoenv/lib/python3.9/site-packages/sklearn/metrics/pairwise.py?line=1218'>1219</a>\u001b[0m \u001b[39mCosine similarity, or the cosine kernel, computes similarity as the\u001b[39;00m\n\u001b[0;32m   (...)\u001b[0m\n\u001b[1;32m   <a href='file:///opt/anaconda3/envs/djangoenv/lib/python3.9/site-packages/sklearn/metrics/pairwise.py?line=1246'>1247</a>\u001b[0m \u001b[39mkernel matrix : ndarray of shape (n_samples_X, n_samples_Y)\u001b[39;00m\n\u001b[1;32m   <a href='file:///opt/anaconda3/envs/djangoenv/lib/python3.9/site-packages/sklearn/metrics/pairwise.py?line=1247'>1248</a>\u001b[0m \u001b[39m\"\"\"\u001b[39;00m\n\u001b[1;32m   <a href='file:///opt/anaconda3/envs/djangoenv/lib/python3.9/site-packages/sklearn/metrics/pairwise.py?line=1248'>1249</a>\u001b[0m \u001b[39m# to avoid recursive import\u001b[39;00m\n\u001b[0;32m-> <a href='file:///opt/anaconda3/envs/djangoenv/lib/python3.9/site-packages/sklearn/metrics/pairwise.py?line=1250'>1251</a>\u001b[0m X, Y \u001b[39m=\u001b[39m check_pairwise_arrays(X, Y)\n\u001b[1;32m   <a href='file:///opt/anaconda3/envs/djangoenv/lib/python3.9/site-packages/sklearn/metrics/pairwise.py?line=1252'>1253</a>\u001b[0m X_normalized \u001b[39m=\u001b[39m normalize(X, copy\u001b[39m=\u001b[39m\u001b[39mTrue\u001b[39;00m)\n\u001b[1;32m   <a href='file:///opt/anaconda3/envs/djangoenv/lib/python3.9/site-packages/sklearn/metrics/pairwise.py?line=1253'>1254</a>\u001b[0m \u001b[39mif\u001b[39;00m X \u001b[39mis\u001b[39;00m Y:\n",
      "File \u001b[0;32m/opt/anaconda3/envs/djangoenv/lib/python3.9/site-packages/sklearn/metrics/pairwise.py:156\u001b[0m, in \u001b[0;36mcheck_pairwise_arrays\u001b[0;34m(X, Y, precomputed, dtype, accept_sparse, force_all_finite, copy)\u001b[0m\n\u001b[1;32m    <a href='file:///opt/anaconda3/envs/djangoenv/lib/python3.9/site-packages/sklearn/metrics/pairwise.py?line=146'>147</a>\u001b[0m     X \u001b[39m=\u001b[39m Y \u001b[39m=\u001b[39m check_array(\n\u001b[1;32m    <a href='file:///opt/anaconda3/envs/djangoenv/lib/python3.9/site-packages/sklearn/metrics/pairwise.py?line=147'>148</a>\u001b[0m         X,\n\u001b[1;32m    <a href='file:///opt/anaconda3/envs/djangoenv/lib/python3.9/site-packages/sklearn/metrics/pairwise.py?line=148'>149</a>\u001b[0m         accept_sparse\u001b[39m=\u001b[39maccept_sparse,\n\u001b[0;32m   (...)\u001b[0m\n\u001b[1;32m    <a href='file:///opt/anaconda3/envs/djangoenv/lib/python3.9/site-packages/sklearn/metrics/pairwise.py?line=152'>153</a>\u001b[0m         estimator\u001b[39m=\u001b[39mestimator,\n\u001b[1;32m    <a href='file:///opt/anaconda3/envs/djangoenv/lib/python3.9/site-packages/sklearn/metrics/pairwise.py?line=153'>154</a>\u001b[0m     )\n\u001b[1;32m    <a href='file:///opt/anaconda3/envs/djangoenv/lib/python3.9/site-packages/sklearn/metrics/pairwise.py?line=154'>155</a>\u001b[0m \u001b[39melse\u001b[39;00m:\n\u001b[0;32m--> <a href='file:///opt/anaconda3/envs/djangoenv/lib/python3.9/site-packages/sklearn/metrics/pairwise.py?line=155'>156</a>\u001b[0m     X \u001b[39m=\u001b[39m check_array(\n\u001b[1;32m    <a href='file:///opt/anaconda3/envs/djangoenv/lib/python3.9/site-packages/sklearn/metrics/pairwise.py?line=156'>157</a>\u001b[0m         X,\n\u001b[1;32m    <a href='file:///opt/anaconda3/envs/djangoenv/lib/python3.9/site-packages/sklearn/metrics/pairwise.py?line=157'>158</a>\u001b[0m         accept_sparse\u001b[39m=\u001b[39;49maccept_sparse,\n\u001b[1;32m    <a href='file:///opt/anaconda3/envs/djangoenv/lib/python3.9/site-packages/sklearn/metrics/pairwise.py?line=158'>159</a>\u001b[0m         dtype\u001b[39m=\u001b[39;49mdtype,\n\u001b[1;32m    <a href='file:///opt/anaconda3/envs/djangoenv/lib/python3.9/site-packages/sklearn/metrics/pairwise.py?line=159'>160</a>\u001b[0m         copy\u001b[39m=\u001b[39;49mcopy,\n\u001b[1;32m    <a href='file:///opt/anaconda3/envs/djangoenv/lib/python3.9/site-packages/sklearn/metrics/pairwise.py?line=160'>161</a>\u001b[0m         force_all_finite\u001b[39m=\u001b[39;49mforce_all_finite,\n\u001b[1;32m    <a href='file:///opt/anaconda3/envs/djangoenv/lib/python3.9/site-packages/sklearn/metrics/pairwise.py?line=161'>162</a>\u001b[0m         estimator\u001b[39m=\u001b[39;49mestimator,\n\u001b[1;32m    <a href='file:///opt/anaconda3/envs/djangoenv/lib/python3.9/site-packages/sklearn/metrics/pairwise.py?line=162'>163</a>\u001b[0m     )\n\u001b[1;32m    <a href='file:///opt/anaconda3/envs/djangoenv/lib/python3.9/site-packages/sklearn/metrics/pairwise.py?line=163'>164</a>\u001b[0m     Y \u001b[39m=\u001b[39m check_array(\n\u001b[1;32m    <a href='file:///opt/anaconda3/envs/djangoenv/lib/python3.9/site-packages/sklearn/metrics/pairwise.py?line=164'>165</a>\u001b[0m         Y,\n\u001b[1;32m    <a href='file:///opt/anaconda3/envs/djangoenv/lib/python3.9/site-packages/sklearn/metrics/pairwise.py?line=165'>166</a>\u001b[0m         accept_sparse\u001b[39m=\u001b[39maccept_sparse,\n\u001b[0;32m   (...)\u001b[0m\n\u001b[1;32m    <a href='file:///opt/anaconda3/envs/djangoenv/lib/python3.9/site-packages/sklearn/metrics/pairwise.py?line=169'>170</a>\u001b[0m         estimator\u001b[39m=\u001b[39mestimator,\n\u001b[1;32m    <a href='file:///opt/anaconda3/envs/djangoenv/lib/python3.9/site-packages/sklearn/metrics/pairwise.py?line=170'>171</a>\u001b[0m     )\n\u001b[1;32m    <a href='file:///opt/anaconda3/envs/djangoenv/lib/python3.9/site-packages/sklearn/metrics/pairwise.py?line=172'>173</a>\u001b[0m \u001b[39mif\u001b[39;00m precomputed:\n",
      "File \u001b[0;32m/opt/anaconda3/envs/djangoenv/lib/python3.9/site-packages/sklearn/utils/validation.py:746\u001b[0m, in \u001b[0;36mcheck_array\u001b[0;34m(array, accept_sparse, accept_large_sparse, dtype, order, copy, force_all_finite, ensure_2d, allow_nd, ensure_min_samples, ensure_min_features, estimator)\u001b[0m\n\u001b[1;32m    <a href='file:///opt/anaconda3/envs/djangoenv/lib/python3.9/site-packages/sklearn/utils/validation.py?line=743'>744</a>\u001b[0m         array \u001b[39m=\u001b[39m array\u001b[39m.\u001b[39mastype(dtype, casting\u001b[39m=\u001b[39m\u001b[39m\"\u001b[39m\u001b[39munsafe\u001b[39m\u001b[39m\"\u001b[39m, copy\u001b[39m=\u001b[39m\u001b[39mFalse\u001b[39;00m)\n\u001b[1;32m    <a href='file:///opt/anaconda3/envs/djangoenv/lib/python3.9/site-packages/sklearn/utils/validation.py?line=744'>745</a>\u001b[0m     \u001b[39melse\u001b[39;00m:\n\u001b[0;32m--> <a href='file:///opt/anaconda3/envs/djangoenv/lib/python3.9/site-packages/sklearn/utils/validation.py?line=745'>746</a>\u001b[0m         array \u001b[39m=\u001b[39m np\u001b[39m.\u001b[39;49masarray(array, order\u001b[39m=\u001b[39;49morder, dtype\u001b[39m=\u001b[39;49mdtype)\n\u001b[1;32m    <a href='file:///opt/anaconda3/envs/djangoenv/lib/python3.9/site-packages/sklearn/utils/validation.py?line=746'>747</a>\u001b[0m \u001b[39mexcept\u001b[39;00m ComplexWarning \u001b[39mas\u001b[39;00m complex_warning:\n\u001b[1;32m    <a href='file:///opt/anaconda3/envs/djangoenv/lib/python3.9/site-packages/sklearn/utils/validation.py?line=747'>748</a>\u001b[0m     \u001b[39mraise\u001b[39;00m \u001b[39mValueError\u001b[39;00m(\n\u001b[1;32m    <a href='file:///opt/anaconda3/envs/djangoenv/lib/python3.9/site-packages/sklearn/utils/validation.py?line=748'>749</a>\u001b[0m         \u001b[39m\"\u001b[39m\u001b[39mComplex data not supported\u001b[39m\u001b[39m\\n\u001b[39;00m\u001b[39m{}\u001b[39;00m\u001b[39m\\n\u001b[39;00m\u001b[39m\"\u001b[39m\u001b[39m.\u001b[39mformat(array)\n\u001b[1;32m    <a href='file:///opt/anaconda3/envs/djangoenv/lib/python3.9/site-packages/sklearn/utils/validation.py?line=749'>750</a>\u001b[0m     ) \u001b[39mfrom\u001b[39;00m \u001b[39mcomplex_warning\u001b[39;00m\n",
      "\u001b[0;31mValueError\u001b[0m: could not convert string to float: 'James Cameron'"
     ]
    }
   ],
   "source": [
    "# Cosine Similarity\n",
    "similarities = [0] * len(df)\n",
    "\n",
    "for i in range(len(df)):\n",
    "    Movie_1 = df.iloc[0].array\n",
    "    # Movie_2 = df.iloc[i].array\n",
    "    result = cosine_similarity([Movie_1], vectors)\n",
    "    similarities[i] = result[0][0]\n",
    "print(similarities)\n",
    "    "
   ]
  },
  {
   "cell_type": "code",
   "execution_count": null,
   "metadata": {},
   "outputs": [],
   "source": [
    "sorted_similarities = sorted(similarities, key = float, reverse=True)"
   ]
  },
  {
   "cell_type": "code",
   "execution_count": null,
   "metadata": {},
   "outputs": [
    {
     "name": "stdout",
     "output_type": "stream",
     "text": [
      "[0, 0, 0, 0, 0, 0, 0, 0, 0, 0, 0, 0, 0, 0, 0, 0, 0, 0, 0, 0]\n"
     ]
    }
   ],
   "source": [
    "top_20 = [0] * 20\n",
    "# for i in range(len(sorted_array)):\n",
    "#     print(sorted_array)\n",
    "\n",
    "for i in range(1,21):\n",
    "    top_20[i-1] = sorted_similarities[i] # points from the second highest value to 20th\n",
    "print(top_20)"
   ]
  },
  {
   "cell_type": "code",
   "execution_count": null,
   "metadata": {},
   "outputs": [
    {
     "ename": "IndexError",
     "evalue": "list assignment index out of range",
     "output_type": "error",
     "traceback": [
      "\u001b[0;31m---------------------------------------------------------------------------\u001b[0m",
      "\u001b[0;31mIndexError\u001b[0m                                Traceback (most recent call last)",
      "\u001b[1;32m/Users/kentatanaka/Downloads/Classes/ECS171/Project/Movie_recommendation/movie_recommendation/backend/cosSim.ipynb Cell 9'\u001b[0m in \u001b[0;36m<cell line: 5>\u001b[0;34m()\u001b[0m\n\u001b[1;32m      <a href='vscode-notebook-cell:/Users/kentatanaka/Downloads/Classes/ECS171/Project/Movie_recommendation/movie_recommendation/backend/cosSim.ipynb#ch0000007?line=5'>6</a>\u001b[0m     \u001b[39mfor\u001b[39;00m j \u001b[39min\u001b[39;00m \u001b[39mrange\u001b[39m(\u001b[39mlen\u001b[39m(similarities)):\n\u001b[1;32m      <a href='vscode-notebook-cell:/Users/kentatanaka/Downloads/Classes/ECS171/Project/Movie_recommendation/movie_recommendation/backend/cosSim.ipynb#ch0000007?line=6'>7</a>\u001b[0m         \u001b[39mif\u001b[39;00m top_20[i] \u001b[39m==\u001b[39m similarities[j]:\n\u001b[0;32m----> <a href='vscode-notebook-cell:/Users/kentatanaka/Downloads/Classes/ECS171/Project/Movie_recommendation/movie_recommendation/backend/cosSim.ipynb#ch0000007?line=7'>8</a>\u001b[0m             top_20_movie_titles[count] \u001b[39m=\u001b[39m df[\u001b[39m'\u001b[39m\u001b[39mgenres\u001b[39m\u001b[39m'\u001b[39m][j]\n\u001b[1;32m      <a href='vscode-notebook-cell:/Users/kentatanaka/Downloads/Classes/ECS171/Project/Movie_recommendation/movie_recommendation/backend/cosSim.ipynb#ch0000007?line=8'>9</a>\u001b[0m             count \u001b[39m=\u001b[39m count \u001b[39m+\u001b[39m \u001b[39m1\u001b[39m\n\u001b[1;32m     <a href='vscode-notebook-cell:/Users/kentatanaka/Downloads/Classes/ECS171/Project/Movie_recommendation/movie_recommendation/backend/cosSim.ipynb#ch0000007?line=9'>10</a>\u001b[0m \u001b[39mprint\u001b[39m(top_20_movie_titles)\n",
      "\u001b[0;31mIndexError\u001b[0m: list assignment index out of range"
     ]
    }
   ],
   "source": [
    "# retrieving movie title for top_20\n",
    "top_20_movie_titles = ['NA'] * 20\n",
    "count = 0\n",
    "\n",
    "for i in range(len(top_20)):\n",
    "    for j in range(len(similarities)):\n",
    "        if top_20[i] == similarities[j]:\n",
    "            top_20_movie_titles[count] = df['genres'][j]\n",
    "            count = count + 1\n",
    "print(top_20_movie_titles)"
   ]
  }
 ],
 "metadata": {
  "interpreter": {
   "hash": "eae9651e0c7efad92476ddd7e0198d8fcf9d80ce1bc0a58cf70878efe96f23d6"
  },
  "kernelspec": {
   "display_name": "Python 3.9.7",
   "language": "python",
   "name": "python3"
  },
  "language_info": {
   "codemirror_mode": {
    "name": "ipython",
    "version": 3
   },
   "file_extension": ".py",
   "mimetype": "text/x-python",
   "name": "python",
   "nbconvert_exporter": "python",
   "pygments_lexer": "ipython3",
   "version": "3.9.7"
  },
  "orig_nbformat": 4
 },
 "nbformat": 4,
 "nbformat_minor": 2
}
